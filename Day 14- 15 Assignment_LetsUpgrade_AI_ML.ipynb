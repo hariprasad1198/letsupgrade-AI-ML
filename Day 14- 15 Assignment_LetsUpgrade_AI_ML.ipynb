{
 "cells": [
  {
   "cell_type": "markdown",
   "metadata": {},
   "source": [
    "# 1. Create a 3x3x3 array with random values "
   ]
  },
  {
   "cell_type": "code",
   "execution_count": 4,
   "metadata": {},
   "outputs": [
    {
     "name": "stdout",
     "output_type": "stream",
     "text": [
      "[[[0.01222568 0.08952853 0.64258727]\n",
      "  [0.95591924 0.78253517 0.42364712]\n",
      "  [0.95290901 0.89750845 0.17192696]]\n",
      "\n",
      " [[0.32668096 0.91432784 0.42849472]\n",
      "  [0.59236558 0.24119632 0.59121098]\n",
      "  [0.2348491  0.51415649 0.71885519]]\n",
      "\n",
      " [[0.87654847 0.24684867 0.97871641]\n",
      "  [0.17500173 0.18869938 0.16447448]\n",
      "  [0.2768359  0.51612545 0.79260195]]]\n",
      "The shape of array n is: \n",
      "(3, 3, 3)\n"
     ]
    }
   ],
   "source": [
    "import numpy as np\n",
    "n = np.random.random((3,3,3))\n",
    "print(n)\n",
    "print(\"The shape of array n is: \")\n",
    "print(n.shape)"
   ]
  },
  {
   "cell_type": "markdown",
   "metadata": {},
   "source": [
    "# 2.Create a 5x5 matrix with values 1,2,3,4 just below the diagonal"
   ]
  },
  {
   "cell_type": "code",
   "execution_count": 6,
   "metadata": {},
   "outputs": [
    {
     "name": "stdout",
     "output_type": "stream",
     "text": [
      "[[0 0 0 0 0]\n",
      " [1 0 0 0 0]\n",
      " [0 2 0 0 0]\n",
      " [0 0 3 0 0]\n",
      " [0 0 0 4 0]]\n"
     ]
    }
   ],
   "source": [
    "n = np.diag(1+np.arange(4), k = -1)\n",
    "print(n)"
   ]
  },
  {
   "cell_type": "markdown",
   "metadata": {},
   "source": [
    "# 3.Create a 8x8 matrix and fill it with a checkerboard pattern"
   ]
  },
  {
   "cell_type": "code",
   "execution_count": 7,
   "metadata": {},
   "outputs": [
    {
     "name": "stdout",
     "output_type": "stream",
     "text": [
      "[[0 1 0 1 0 1 0 1]\n",
      " [1 0 1 0 1 0 1 0]\n",
      " [0 1 0 1 0 1 0 1]\n",
      " [1 0 1 0 1 0 1 0]\n",
      " [0 1 0 1 0 1 0 1]\n",
      " [1 0 1 0 1 0 1 0]\n",
      " [0 1 0 1 0 1 0 1]\n",
      " [1 0 1 0 1 0 1 0]]\n"
     ]
    }
   ],
   "source": [
    "a = np.zeros ((8,8), dtype=int)\n",
    "a[1::2, ::2]= 1\n",
    "a[::2, 1::2] = 1\n",
    "print(a)"
   ]
  },
  {
   "cell_type": "markdown",
   "metadata": {},
   "source": [
    "# 4. Normalize a 5x5 random matrix"
   ]
  },
  {
   "cell_type": "code",
   "execution_count": 15,
   "metadata": {},
   "outputs": [
    {
     "name": "stdout",
     "output_type": "stream",
     "text": [
      "Original matrix of size 5X5: \n",
      "[[0.44337977 0.62056741 0.13979032 0.93663806 0.15293196]\n",
      " [0.75079081 0.67507154 0.80987062 0.30072309 0.84346471]\n",
      " [0.54861538 0.91845157 0.88181159 0.60050127 0.65743881]\n",
      " [0.58151645 0.35890633 0.27580186 0.35264124 0.46915539]\n",
      " [0.79945848 0.83092621 0.99045493 0.31069904 0.24697937]]\n",
      "Normalized matrix: \n",
      "[[0.35688501 0.56517819 0.         0.9367355  0.01544867]\n",
      " [0.7182625  0.6292506  0.78771386 0.18918475 0.82720543]\n",
      " [0.48059488 0.91535634 0.87228416 0.54158941 0.60852242]\n",
      " [0.51927178 0.25758214 0.15988855 0.25021721 0.38718558]\n",
      " [0.77547384 0.81246578 1.         0.20091199 0.12600624]]\n"
     ]
    }
   ],
   "source": [
    "import numpy as np\n",
    "N = np.random.random((5,5))\n",
    "print(\"Original matrix of size 5X5: \")\n",
    "print(N)\n",
    "Nmax, Nmin = N.max(), N.min()\n",
    "N = (N - Nmin) / (Nmax - Nmin)\n",
    "print(\"Normalized matrix: \")\n",
    "print(N)"
   ]
  },
  {
   "cell_type": "markdown",
   "metadata": {},
   "source": [
    "# 5.  How to find common values between two arrays?"
   ]
  },
  {
   "cell_type": "code",
   "execution_count": 18,
   "metadata": {},
   "outputs": [
    {
     "name": "stdout",
     "output_type": "stream",
     "text": [
      "Array 1 is: \n",
      "[10 15 20 25 30 40]\n",
      "Array 2 is :\n",
      "[20 30 40]\n",
      "Common values between two arrays are :\n",
      "[20 30 40]\n"
     ]
    }
   ],
   "source": [
    "import numpy as np\n",
    "print(\"Array 1 is: \")\n",
    "a1 = np.array([10,15,20,25,30,40])\n",
    "print(a1)\n",
    "print(\"Array 2 is :\")\n",
    "a2 = np.array([20,30,40])\n",
    "print(a2)\n",
    "common_values = np.intersect1d(a1, a2)\n",
    "print(\"Common values between two arrays are :\")\n",
    "print(common_values)"
   ]
  },
  {
   "cell_type": "markdown",
   "metadata": {},
   "source": [
    "# 6.How to get the dates of yesterday, today and tomorrow?"
   ]
  },
  {
   "cell_type": "code",
   "execution_count": 19,
   "metadata": {},
   "outputs": [
    {
     "name": "stdout",
     "output_type": "stream",
     "text": [
      "Yesterday's date:  2020-07-27\n",
      "Today's date:  2020-07-28\n",
      "Tomorrow's date :  2020-07-29\n"
     ]
    }
   ],
   "source": [
    "import numpy as np\n",
    "yesterday = np.datetime64('today', 'D') - np.timedelta64(1, 'D')\n",
    "print(\"Yesterday's date: \",yesterday)\n",
    "today = np.datetime64('today', 'D')\n",
    "print(\"Today's date: \",today)\n",
    "tomorrow  = np.datetime64('today', 'D') + np.timedelta64(1, 'D')\n",
    "print(\"Tomorrow's date : \",tomorrow)"
   ]
  },
  {
   "cell_type": "markdown",
   "metadata": {},
   "source": [
    "# 7. Consider two random array A and B, check if they are equal"
   ]
  },
  {
   "cell_type": "code",
   "execution_count": 20,
   "metadata": {},
   "outputs": [
    {
     "name": "stdout",
     "output_type": "stream",
     "text": [
      "[ 5 10 15]\n",
      "[ 5 10 15]\n",
      "Output is True if two arrays are equal\n",
      "Output is False if two arrays are equal\n",
      "Output: True\n"
     ]
    }
   ],
   "source": [
    "import numpy as np\n",
    "m = np.array([5,10,15])\n",
    "print(m)\n",
    "n = np.array([5,10,15])\n",
    "print(n)\n",
    "comparison = m == n\n",
    "equal_arrays = comparison.all()\n",
    "print(\"Output is True if two arrays are equal\")\n",
    "print(\"Output is False if two arrays are equal\")\n",
    "print(\"Output:\",equal_arrays)"
   ]
  },
  {
   "cell_type": "markdown",
   "metadata": {},
   "source": [
    "# 8.Create random vector of size 10 and replace the maximum value by 0 "
   ]
  },
  {
   "cell_type": "code",
   "execution_count": 21,
   "metadata": {},
   "outputs": [
    {
     "name": "stdout",
     "output_type": "stream",
     "text": [
      "Original array of size 10 :\n",
      "[0.99016739 0.36155182 0.40180485 0.87773205 0.88338213 0.77654415\n",
      " 0.9961374  0.98772108 0.36607231 0.1308741 ]\n",
      "Maximum value replaced by 0:\n",
      "[0.99016739 0.36155182 0.40180485 0.87773205 0.88338213 0.77654415\n",
      " 0.         0.98772108 0.36607231 0.1308741 ]\n"
     ]
    }
   ],
   "source": [
    "import numpy as np\n",
    "x = np.random.random(10)\n",
    "print(\"Original array of size 10 :\")\n",
    "print(x)\n",
    "x[x.argmax()] = 0\n",
    "print(\"Maximum value replaced by 0:\")\n",
    "print(x)"
   ]
  },
  {
   "cell_type": "markdown",
   "metadata": {},
   "source": [
    "# 9. How to print all the values of an array?"
   ]
  },
  {
   "cell_type": "code",
   "execution_count": 22,
   "metadata": {},
   "outputs": [
    {
     "name": "stdout",
     "output_type": "stream",
     "text": [
      "[  0   1   2   3   4   5   6   7   8   9  10  11  12  13  14  15  16  17\n",
      "  18  19  20  21  22  23  24  25  26  27  28  29  30  31  32  33  34  35\n",
      "  36  37  38  39  40  41  42  43  44  45  46  47  48  49  50  51  52  53\n",
      "  54  55  56  57  58  59  60  61  62  63  64  65  66  67  68  69  70  71\n",
      "  72  73  74  75  76  77  78  79  80  81  82  83  84  85  86  87  88  89\n",
      "  90  91  92  93  94  95  96  97  98  99 100 101 102 103 104 105 106 107\n",
      " 108 109 110 111 112 113 114 115 116 117 118 119 120 121 122 123 124 125\n",
      " 126 127 128 129 130 131 132 133 134 135 136 137 138 139 140 141 142 143\n",
      " 144 145 146 147 148 149 150 151 152 153 154 155 156 157 158 159 160 161\n",
      " 162 163 164 165 166 167 168 169 170 171 172 173 174 175 176 177 178 179\n",
      " 180 181 182 183 184 185 186 187 188 189 190 191 192 193 194 195 196 197\n",
      " 198 199 200 201 202 203 204 205 206 207 208 209 210 211 212 213 214 215\n",
      " 216 217 218 219 220 221 222 223 224 225 226 227 228 229 230 231 232 233\n",
      " 234 235 236 237 238 239 240 241 242 243 244 245 246 247 248 249 250 251\n",
      " 252 253 254 255 256 257 258 259 260 261 262 263 264 265 266 267 268 269\n",
      " 270 271 272 273 274 275 276 277 278 279 280 281 282 283 284 285 286 287\n",
      " 288 289 290 291 292 293 294 295 296 297 298 299 300 301 302 303 304 305\n",
      " 306 307 308 309 310 311 312 313 314 315 316 317 318 319 320 321 322 323\n",
      " 324 325 326 327 328 329 330 331 332 333 334 335 336 337 338 339 340 341\n",
      " 342 343 344 345 346 347 348 349 350 351 352 353 354 355 356 357 358 359\n",
      " 360 361 362 363 364 365 366 367 368 369 370 371 372 373 374 375 376 377\n",
      " 378 379 380 381 382 383 384 385 386 387 388 389 390 391 392 393 394 395\n",
      " 396 397 398 399 400 401 402 403 404 405 406 407 408 409 410 411 412 413\n",
      " 414 415 416 417 418 419 420 421 422 423 424 425 426 427 428 429 430 431\n",
      " 432 433 434 435 436 437 438 439 440 441 442 443 444 445 446 447 448 449\n",
      " 450 451 452 453 454 455 456 457 458 459 460 461 462 463 464 465 466 467\n",
      " 468 469 470 471 472 473 474 475 476 477 478 479 480 481 482 483 484 485\n",
      " 486 487 488 489 490 491 492 493 494 495 496 497 498 499]\n"
     ]
    }
   ],
   "source": [
    "import numpy as np\n",
    "import sys\n",
    "num = np.arange(500)\n",
    "np.set_printoptions(threshold = sys.maxsize)\n",
    "print(num)"
   ]
  },
  {
   "cell_type": "markdown",
   "metadata": {},
   "source": [
    "# 10.Subtract the mean of each row of a matrix"
   ]
  },
  {
   "cell_type": "code",
   "execution_count": 24,
   "metadata": {},
   "outputs": [
    {
     "name": "stdout",
     "output_type": "stream",
     "text": [
      "Original matrix: \n",
      "\n",
      "[[0.82463822 0.72602072 0.84663134 0.43256535 0.34497168 0.1751015\n",
      "  0.47897526 0.25458379 0.59227095 0.63299067]\n",
      " [0.12445021 0.13921636 0.91647116 0.78381795 0.6953076  0.09070258\n",
      "  0.91852042 0.50941163 0.81363761 0.21088759]\n",
      " [0.08464011 0.93853315 0.63872221 0.93272224 0.48403729 0.01397352\n",
      "  0.66655357 0.57939899 0.76941995 0.84151808]\n",
      " [0.72116665 0.22695945 0.42992415 0.73681609 0.47805059 0.5448642\n",
      "  0.33543479 0.66108986 0.28170715 0.64832268]\n",
      " [0.02276366 0.81515274 0.4837804  0.18829913 0.91142242 0.78486702\n",
      "  0.17945886 0.83740965 0.50504822 0.00801096]]\n",
      "\n",
      "Subtract the mean of each row of the given matrix:\n",
      "\n",
      "[[ 0.29376327  0.19514577  0.31575639 -0.0983096  -0.18590327 -0.35577345\n",
      "  -0.05189969 -0.27629115  0.061396    0.10211573]\n",
      " [-0.3957921  -0.38102595  0.39622885  0.26357564  0.17506529 -0.42953973\n",
      "   0.39827811 -0.01083068  0.2933953  -0.30935472]\n",
      " [-0.5103118   0.34358124  0.0437703   0.33777033 -0.11091462 -0.58097839\n",
      "   0.07160166 -0.01555292  0.17446804  0.24656617]\n",
      " [ 0.21473309 -0.27947411 -0.07650941  0.23038253 -0.02838298  0.03843064\n",
      "  -0.17099877  0.1546563  -0.22472642  0.14188912]\n",
      " [-0.45085764  0.34153143  0.01015909 -0.28532217  0.43780111  0.31124571\n",
      "  -0.29416244  0.36378835  0.03142691 -0.46561035]]\n"
     ]
    }
   ],
   "source": [
    "import numpy as np\n",
    "print(\"Original matrix: \\n\")\n",
    "X = np.random.rand(5, 10)\n",
    "print(X)\n",
    "print(\"\\nSubtract the mean of each row of the given matrix:\\n\")\n",
    "Y = X - X.mean(axis=1, keepdims=True)\n",
    "print(Y)"
   ]
  },
  {
   "cell_type": "markdown",
   "metadata": {},
   "source": [
    "# 11.Consider a given vector, how to add 1 to each element indexed by a second vector (be careful with repeated indices)? "
   ]
  },
  {
   "cell_type": "code",
   "execution_count": 26,
   "metadata": {},
   "outputs": [
    {
     "name": "stdout",
     "output_type": "stream",
     "text": [
      "The original vector is: \n",
      "\n",
      "[[0.31360871]\n",
      " [0.7183027 ]\n",
      " [0.28535619]\n",
      " [0.87767993]\n",
      " [0.4337032 ]\n",
      " [0.15295599]\n",
      " [0.70625398]\n",
      " [0.40762743]\n",
      " [0.03977784]\n",
      " [0.84671615]\n",
      " [0.80681244]\n",
      " [0.41686447]\n",
      " [0.92534002]\n",
      " [0.73721095]\n",
      " [0.375248  ]\n",
      " [0.31659115]\n",
      " [0.25276195]\n",
      " [0.45803868]\n",
      " [0.5683773 ]\n",
      " [0.09578944]]\n",
      "The Index values are:\n",
      "[14  2 11  1]\n",
      "Final vector after adding 1 to corresponding elements at the specified indices:\n",
      "[[0.31360871]\n",
      " [1.7183027 ]\n",
      " [1.28535619]\n",
      " [0.87767993]\n",
      " [0.4337032 ]\n",
      " [0.15295599]\n",
      " [0.70625398]\n",
      " [0.40762743]\n",
      " [0.03977784]\n",
      " [0.84671615]\n",
      " [0.80681244]\n",
      " [1.41686447]\n",
      " [0.92534002]\n",
      " [0.73721095]\n",
      " [1.375248  ]\n",
      " [0.31659115]\n",
      " [0.25276195]\n",
      " [0.45803868]\n",
      " [0.5683773 ]\n",
      " [0.09578944]]\n"
     ]
    }
   ],
   "source": [
    "n = np.random.rand(20, 1)\n",
    "print(\"The original vector is: \\n\")\n",
    "print(n)\n",
    "index_a = np.random.randint(0,len(n),4)\n",
    "print(\"The Index values are:\")\n",
    "print(index_a)\n",
    "print(\"Final vector after adding 1 to corresponding elements at the specified indices:\")\n",
    "np.add.at(n,index_a,1)\n",
    "print(n)"
   ]
  },
  {
   "cell_type": "markdown",
   "metadata": {},
   "source": [
    "# 12.How to get the diagonal of a dot product?"
   ]
  },
  {
   "cell_type": "code",
   "execution_count": 27,
   "metadata": {},
   "outputs": [
    {
     "name": "stdout",
     "output_type": "stream",
     "text": [
      "The first 4X4 array is: \n",
      "[[ 0.8101159  -1.17405913  1.36814786 -0.49556621]\n",
      " [-2.160506   -0.84692018  0.70478362 -0.97540648]\n",
      " [-0.00716388  0.09242871 -2.5539567  -1.12779292]\n",
      " [ 0.41529421  1.14071617  1.75004521  1.21037635]]\n",
      "The second 4X4 array is: \n",
      "[[-0.32926677 -0.31388414  1.51500056  0.58988201]\n",
      " [ 0.36614958 -0.31368372 -0.3172264  -0.63571354]\n",
      " [ 0.64376138 -1.29544703  0.63137194  0.59200144]\n",
      " [ 1.32589527 -0.94564169 -0.65922353 -0.25795345]]\n",
      "The corresponding dot product is- \n",
      "[[-0.47293365 -1.18973431  2.79026767  2.16201659]\n",
      " [-0.438291    0.95318884 -1.91651086 -0.06720261]\n",
      " [-3.10327242  4.34825887 -0.90920308 -1.28401201]\n",
      " [ 3.01237396 -3.89985157  0.57432656  0.24361441]]\n",
      "The corresponding diagnol elements are- \n",
      "[-0.47293365  0.95318884 -0.90920308  0.24361441]\n"
     ]
    }
   ],
   "source": [
    "a = np.random.randn(4,4)\n",
    "print(\"The first 4X4 array is: \")\n",
    "print(a)\n",
    "b = np.random.randn(4,4)\n",
    "print(\"The second 4X4 array is: \")\n",
    "print(b)\n",
    "c = np.dot(a,b)\n",
    "print(\"The corresponding dot product is- \")\n",
    "print(c)\n",
    "z = np.diag(c)\n",
    "print(\"The corresponding diagnol elements are- \")\n",
    "print(z)"
   ]
  },
  {
   "cell_type": "markdown",
   "metadata": {},
   "source": [
    "# 13.How to find the most frequent value in an array?"
   ]
  },
  {
   "cell_type": "code",
   "execution_count": 29,
   "metadata": {},
   "outputs": [
    {
     "data": {
      "text/plain": [
       "6"
      ]
     },
     "execution_count": 29,
     "metadata": {},
     "output_type": "execute_result"
    }
   ],
   "source": [
    "k=np.array([1,2,3,3,5,3,6,6,7,6,6,8,9,10,10,11,12])\n",
    "np.argmax(np.bincount(k))"
   ]
  },
  {
   "cell_type": "markdown",
   "metadata": {},
   "source": [
    "# 14.How to get the n largest values of an array"
   ]
  },
  {
   "cell_type": "code",
   "execution_count": 31,
   "metadata": {},
   "outputs": [
    {
     "name": "stdout",
     "output_type": "stream",
     "text": [
      "Enter the value of n:50\n",
      "The 50 largest value of the array are:\n",
      "[453 489 491 461 494 471 464 469 462 479 488 496 492 480 486 452 470 498\n",
      " 483 459 482 476 468 493 467 477 487 478 499 474 485 497 456 466 472 463\n",
      " 481 454 457 490 465 473 455 458 495 484 460 475 451 450]\n"
     ]
    }
   ],
   "source": [
    "M = np.arange(500)\n",
    "np.random.shuffle(M)\n",
    "n = int(input(\"Enter the value of n:\"))\n",
    "print(\"The\",n,\"largest value of the array are:\")\n",
    "print (M[np.argpartition(-M,n)[:n]])"
   ]
  },
  {
   "cell_type": "markdown",
   "metadata": {},
   "source": [
    "# 15.How to create a record array from a regular array?"
   ]
  },
  {
   "cell_type": "code",
   "execution_count": 36,
   "metadata": {},
   "outputs": [
    {
     "name": "stdout",
     "output_type": "stream",
     "text": [
      "Original array:\n",
      "[['Divyaraj' '88.5' '90']\n",
      " ['Aarav' '87' '99']\n",
      " ['Vijay' '85.5' '91']]\n",
      "\n",
      "Record array:\n",
      "[(b'Divyaraj', 88.5, 90) (b'Aarav', 87. , 99) (b'Vijay', 85.5, 91)]\n"
     ]
    }
   ],
   "source": [
    "reg_arr = np.array([[\"Divyaraj\", 88.5, 90],[\"Aarav\", 87, 99],[\"Vijay\", 85.5, 91]])\n",
    "print(\"Original array:\")\n",
    "print(reg_arr)\n",
    "print(\"\\nRecord array:\")\n",
    "rec_arr = np.core.records.fromarrays(reg_arr.T,names='col1, col2, col3',formats = 'S80, f8, i8')\n",
    "print(rec_arr)"
   ]
  },
  {
   "cell_type": "code",
   "execution_count": null,
   "metadata": {},
   "outputs": [],
   "source": []
  }
 ],
 "metadata": {
  "kernelspec": {
   "display_name": "Python 3",
   "language": "python",
   "name": "python3"
  },
  "language_info": {
   "codemirror_mode": {
    "name": "ipython",
    "version": 3
   },
   "file_extension": ".py",
   "mimetype": "text/x-python",
   "name": "python",
   "nbconvert_exporter": "python",
   "pygments_lexer": "ipython3",
   "version": "3.7.6"
  }
 },
 "nbformat": 4,
 "nbformat_minor": 2
}
